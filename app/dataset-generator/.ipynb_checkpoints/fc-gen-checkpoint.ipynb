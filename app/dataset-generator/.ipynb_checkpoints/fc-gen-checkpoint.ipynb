{
 "cells": [
  {
   "cell_type": "code",
   "execution_count": 1,
   "metadata": {},
   "outputs": [],
   "source": [
    "import findspark\n",
    "findspark.init('/home/mocatfrio/spark')"
   ]
  },
  {
   "cell_type": "code",
   "execution_count": 2,
   "metadata": {},
   "outputs": [],
   "source": [
    "from pyspark.sql import SparkSession"
   ]
  },
  {
   "cell_type": "code",
   "execution_count": 3,
   "metadata": {},
   "outputs": [],
   "source": [
    "spark = SparkSession.builder.appName(\"fc\").getOrCreate()"
   ]
  },
  {
   "cell_type": "code",
   "execution_count": 4,
   "metadata": {},
   "outputs": [
    {
     "name": "stdout",
     "output_type": "stream",
     "text": [
      "<pyspark.sql.session.SparkSession object at 0x7fa33a272da0>\n"
     ]
    }
   ],
   "source": [
    "print(spark)"
   ]
  },
  {
   "cell_type": "markdown",
   "metadata": {},
   "source": [
    "# Load Dataset"
   ]
  },
  {
   "cell_type": "code",
   "execution_count": 5,
   "metadata": {},
   "outputs": [],
   "source": [
    "import os\n",
    "dataset_path = '/Users/mocatfrio/Documents/thesis/tugas-akhir/App/dataset-generator'\n",
    "# dataset_path = '/home/mocatfrio/Documents/tugas-akhir/app/dataset-generator'"
   ]
  },
  {
   "cell_type": "code",
   "execution_count": 6,
   "metadata": {},
   "outputs": [],
   "source": [
    "fc_file = os.path.join(dataset_path, 'covtype.csv')\n",
    "fc_df = spark.read.load(fc_file, format=\"csv\", sep=\",\", inferSchema=\"true\", header=\"true\")"
   ]
  },
  {
   "cell_type": "code",
   "execution_count": 7,
   "metadata": {},
   "outputs": [
    {
     "name": "stdout",
     "output_type": "stream",
     "text": [
      "+---------+------+-----+--------------------------------+------------------------------+-------------------------------+-------------+--------------+-------------+----------------------------------+----------------+----------------+----------------+----------------+----------+----------+----------+----------+----------+----------+----------+----------+----------+-----------+-----------+-----------+-----------+-----------+-----------+-----------+-----------+-----------+-----------+-----------+-----------+-----------+-----------+-----------+-----------+-----------+-----------+-----------+-----------+-----------+-----------+-----------+-----------+-----------+-----------+-----------+-----------+-----------+-----------+-----------+----------+\n",
      "|Elevation|Aspect|Slope|Horizontal_Distance_To_Hydrology|Vertical_Distance_To_Hydrology|Horizontal_Distance_To_Roadways|Hillshade_9am|Hillshade_Noon|Hillshade_3pm|Horizontal_Distance_To_Fire_Points|Wilderness_Area1|Wilderness_Area2|Wilderness_Area3|Wilderness_Area4|Soil_Type1|Soil_Type2|Soil_Type3|Soil_Type4|Soil_Type5|Soil_Type6|Soil_Type7|Soil_Type8|Soil_Type9|Soil_Type10|Soil_Type11|Soil_Type12|Soil_Type13|Soil_Type14|Soil_Type15|Soil_Type16|Soil_Type17|Soil_Type18|Soil_Type19|Soil_Type20|Soil_Type21|Soil_Type22|Soil_Type23|Soil_Type24|Soil_Type25|Soil_Type26|Soil_Type27|Soil_Type28|Soil_Type29|Soil_Type30|Soil_Type31|Soil_Type32|Soil_Type33|Soil_Type34|Soil_Type35|Soil_Type36|Soil_Type37|Soil_Type38|Soil_Type39|Soil_Type40|Cover_Type|\n",
      "+---------+------+-----+--------------------------------+------------------------------+-------------------------------+-------------+--------------+-------------+----------------------------------+----------------+----------------+----------------+----------------+----------+----------+----------+----------+----------+----------+----------+----------+----------+-----------+-----------+-----------+-----------+-----------+-----------+-----------+-----------+-----------+-----------+-----------+-----------+-----------+-----------+-----------+-----------+-----------+-----------+-----------+-----------+-----------+-----------+-----------+-----------+-----------+-----------+-----------+-----------+-----------+-----------+-----------+----------+\n",
      "|     2596|    51|    3|                             258|                             0|                            510|          221|           232|          148|                              6279|               1|               0|               0|               0|         0|         0|         0|         0|         0|         0|         0|         0|         0|          0|          0|          0|          0|          0|          0|          0|          0|          0|          0|          0|          0|          0|          0|          0|          0|          0|          0|          0|          1|          0|          0|          0|          0|          0|          0|          0|          0|          0|          0|          0|         5|\n",
      "|     2590|    56|    2|                             212|                            -6|                            390|          220|           235|          151|                              6225|               1|               0|               0|               0|         0|         0|         0|         0|         0|         0|         0|         0|         0|          0|          0|          0|          0|          0|          0|          0|          0|          0|          0|          0|          0|          0|          0|          0|          0|          0|          0|          0|          1|          0|          0|          0|          0|          0|          0|          0|          0|          0|          0|          0|         5|\n",
      "|     2804|   139|    9|                             268|                            65|                           3180|          234|           238|          135|                              6121|               1|               0|               0|               0|         0|         0|         0|         0|         0|         0|         0|         0|         0|          0|          0|          1|          0|          0|          0|          0|          0|          0|          0|          0|          0|          0|          0|          0|          0|          0|          0|          0|          0|          0|          0|          0|          0|          0|          0|          0|          0|          0|          0|          0|         2|\n",
      "|     2785|   155|   18|                             242|                           118|                           3090|          238|           238|          122|                              6211|               1|               0|               0|               0|         0|         0|         0|         0|         0|         0|         0|         0|         0|          0|          0|          0|          0|          0|          0|          0|          0|          0|          0|          0|          0|          0|          0|          0|          0|          0|          0|          0|          0|          1|          0|          0|          0|          0|          0|          0|          0|          0|          0|          0|         2|\n",
      "|     2595|    45|    2|                             153|                            -1|                            391|          220|           234|          150|                              6172|               1|               0|               0|               0|         0|         0|         0|         0|         0|         0|         0|         0|         0|          0|          0|          0|          0|          0|          0|          0|          0|          0|          0|          0|          0|          0|          0|          0|          0|          0|          0|          0|          1|          0|          0|          0|          0|          0|          0|          0|          0|          0|          0|          0|         5|\n",
      "|     2579|   132|    6|                             300|                           -15|                             67|          230|           237|          140|                              6031|               1|               0|               0|               0|         0|         0|         0|         0|         0|         0|         0|         0|         0|          0|          0|          0|          0|          0|          0|          0|          0|          0|          0|          0|          0|          0|          0|          0|          0|          0|          0|          0|          1|          0|          0|          0|          0|          0|          0|          0|          0|          0|          0|          0|         2|\n",
      "|     2606|    45|    7|                             270|                             5|                            633|          222|           225|          138|                              6256|               1|               0|               0|               0|         0|         0|         0|         0|         0|         0|         0|         0|         0|          0|          0|          0|          0|          0|          0|          0|          0|          0|          0|          0|          0|          0|          0|          0|          0|          0|          0|          0|          1|          0|          0|          0|          0|          0|          0|          0|          0|          0|          0|          0|         5|\n",
      "|     2605|    49|    4|                             234|                             7|                            573|          222|           230|          144|                              6228|               1|               0|               0|               0|         0|         0|         0|         0|         0|         0|         0|         0|         0|          0|          0|          0|          0|          0|          0|          0|          0|          0|          0|          0|          0|          0|          0|          0|          0|          0|          0|          0|          1|          0|          0|          0|          0|          0|          0|          0|          0|          0|          0|          0|         5|\n",
      "|     2617|    45|    9|                             240|                            56|                            666|          223|           221|          133|                              6244|               1|               0|               0|               0|         0|         0|         0|         0|         0|         0|         0|         0|         0|          0|          0|          0|          0|          0|          0|          0|          0|          0|          0|          0|          0|          0|          0|          0|          0|          0|          0|          0|          1|          0|          0|          0|          0|          0|          0|          0|          0|          0|          0|          0|         5|\n",
      "|     2612|    59|   10|                             247|                            11|                            636|          228|           219|          124|                              6230|               1|               0|               0|               0|         0|         0|         0|         0|         0|         0|         0|         0|         0|          0|          0|          0|          0|          0|          0|          0|          0|          0|          0|          0|          0|          0|          0|          0|          0|          0|          0|          0|          1|          0|          0|          0|          0|          0|          0|          0|          0|          0|          0|          0|         5|\n",
      "|     2612|   201|    4|                             180|                            51|                            735|          218|           243|          161|                              6222|               1|               0|               0|               0|         0|         0|         0|         0|         0|         0|         0|         0|         0|          0|          0|          0|          0|          0|          0|          0|          0|          1|          0|          0|          0|          0|          0|          0|          0|          0|          0|          0|          0|          0|          0|          0|          0|          0|          0|          0|          0|          0|          0|          0|         5|\n",
      "|     2886|   151|   11|                             371|                            26|                           5253|          234|           240|          136|                              4051|               1|               0|               0|               0|         0|         0|         0|         0|         0|         0|         0|         0|         0|          0|          0|          0|          0|          0|          0|          0|          0|          0|          0|          0|          0|          0|          0|          0|          0|          0|          0|          0|          0|          1|          0|          0|          0|          0|          0|          0|          0|          0|          0|          0|         2|\n",
      "|     2742|   134|   22|                             150|                            69|                           3215|          248|           224|           92|                              6091|               1|               0|               0|               0|         0|         0|         0|         0|         0|         0|         0|         0|         0|          0|          0|          0|          0|          0|          0|          0|          0|          0|          0|          0|          0|          0|          0|          0|          0|          0|          0|          0|          0|          1|          0|          0|          0|          0|          0|          0|          0|          0|          0|          0|         2|\n",
      "|     2609|   214|    7|                             150|                            46|                            771|          213|           247|          170|                              6211|               1|               0|               0|               0|         0|         0|         0|         0|         0|         0|         0|         0|         0|          0|          0|          0|          0|          0|          0|          0|          0|          1|          0|          0|          0|          0|          0|          0|          0|          0|          0|          0|          0|          0|          0|          0|          0|          0|          0|          0|          0|          0|          0|          0|         5|\n",
      "|     2503|   157|    4|                              67|                             4|                            674|          224|           240|          151|                              5600|               1|               0|               0|               0|         0|         0|         0|         0|         0|         0|         0|         0|         0|          0|          0|          0|          0|          0|          0|          0|          0|          1|          0|          0|          0|          0|          0|          0|          0|          0|          0|          0|          0|          0|          0|          0|          0|          0|          0|          0|          0|          0|          0|          0|         5|\n",
      "|     2495|    51|    7|                              42|                             2|                            752|          224|           225|          137|                              5576|               1|               0|               0|               0|         0|         0|         0|         0|         0|         0|         0|         0|         0|          0|          0|          0|          0|          0|          0|          1|          0|          0|          0|          0|          0|          0|          0|          0|          0|          0|          0|          0|          0|          0|          0|          0|          0|          0|          0|          0|          0|          0|          0|          0|         5|\n",
      "|     2610|   259|    1|                             120|                            -1|                            607|          216|           239|          161|                              6096|               1|               0|               0|               0|         0|         0|         0|         0|         0|         0|         0|         0|         0|          0|          0|          0|          0|          0|          0|          0|          0|          0|          0|          0|          0|          0|          0|          0|          0|          0|          0|          0|          1|          0|          0|          0|          0|          0|          0|          0|          0|          0|          0|          0|         5|\n",
      "|     2517|    72|    7|                              85|                             6|                            595|          228|           227|          133|                              5607|               1|               0|               0|               0|         0|         0|         0|         0|         0|         0|         0|         0|         0|          0|          0|          0|          0|          0|          0|          0|          0|          1|          0|          0|          0|          0|          0|          0|          0|          0|          0|          0|          0|          0|          0|          0|          0|          0|          0|          0|          0|          0|          0|          0|         5|\n",
      "|     2504|     0|    4|                              95|                             5|                            691|          214|           232|          156|                              5572|               1|               0|               0|               0|         0|         0|         0|         0|         0|         0|         0|         0|         0|          0|          0|          0|          0|          0|          0|          0|          0|          1|          0|          0|          0|          0|          0|          0|          0|          0|          0|          0|          0|          0|          0|          0|          0|          0|          0|          0|          0|          0|          0|          0|         5|\n",
      "|     2503|    38|    5|                              85|                            10|                            741|          220|           228|          144|                              5555|               1|               0|               0|               0|         0|         0|         0|         0|         0|         0|         0|         0|         0|          0|          0|          0|          0|          0|          0|          0|          0|          1|          0|          0|          0|          0|          0|          0|          0|          0|          0|          0|          0|          0|          0|          0|          0|          0|          0|          0|          0|          0|          0|          0|         5|\n",
      "+---------+------+-----+--------------------------------+------------------------------+-------------------------------+-------------+--------------+-------------+----------------------------------+----------------+----------------+----------------+----------------+----------+----------+----------+----------+----------+----------+----------+----------+----------+-----------+-----------+-----------+-----------+-----------+-----------+-----------+-----------+-----------+-----------+-----------+-----------+-----------+-----------+-----------+-----------+-----------+-----------+-----------+-----------+-----------+-----------+-----------+-----------+-----------+-----------+-----------+-----------+-----------+-----------+-----------+----------+\n",
      "only showing top 20 rows\n",
      "\n"
     ]
    }
   ],
   "source": [
    "# Print top 20 rows data\n",
    "fc_df.show()"
   ]
  },
  {
   "cell_type": "code",
   "execution_count": 8,
   "metadata": {},
   "outputs": [
    {
     "data": {
      "text/plain": [
       "581012"
      ]
     },
     "execution_count": 8,
     "metadata": {},
     "output_type": "execute_result"
    }
   ],
   "source": [
    "fc_df.count()"
   ]
  },
  {
   "cell_type": "code",
   "execution_count": 9,
   "metadata": {},
   "outputs": [
    {
     "name": "stdout",
     "output_type": "stream",
     "text": [
      "root\n",
      " |-- Elevation: integer (nullable = true)\n",
      " |-- Aspect: integer (nullable = true)\n",
      " |-- Slope: integer (nullable = true)\n",
      " |-- Horizontal_Distance_To_Hydrology: integer (nullable = true)\n",
      " |-- Vertical_Distance_To_Hydrology: integer (nullable = true)\n",
      " |-- Horizontal_Distance_To_Roadways: integer (nullable = true)\n",
      " |-- Hillshade_9am: integer (nullable = true)\n",
      " |-- Hillshade_Noon: integer (nullable = true)\n",
      " |-- Hillshade_3pm: integer (nullable = true)\n",
      " |-- Horizontal_Distance_To_Fire_Points: integer (nullable = true)\n",
      " |-- Wilderness_Area1: integer (nullable = true)\n",
      " |-- Wilderness_Area2: integer (nullable = true)\n",
      " |-- Wilderness_Area3: integer (nullable = true)\n",
      " |-- Wilderness_Area4: integer (nullable = true)\n",
      " |-- Soil_Type1: integer (nullable = true)\n",
      " |-- Soil_Type2: integer (nullable = true)\n",
      " |-- Soil_Type3: integer (nullable = true)\n",
      " |-- Soil_Type4: integer (nullable = true)\n",
      " |-- Soil_Type5: integer (nullable = true)\n",
      " |-- Soil_Type6: integer (nullable = true)\n",
      " |-- Soil_Type7: integer (nullable = true)\n",
      " |-- Soil_Type8: integer (nullable = true)\n",
      " |-- Soil_Type9: integer (nullable = true)\n",
      " |-- Soil_Type10: integer (nullable = true)\n",
      " |-- Soil_Type11: integer (nullable = true)\n",
      " |-- Soil_Type12: integer (nullable = true)\n",
      " |-- Soil_Type13: integer (nullable = true)\n",
      " |-- Soil_Type14: integer (nullable = true)\n",
      " |-- Soil_Type15: integer (nullable = true)\n",
      " |-- Soil_Type16: integer (nullable = true)\n",
      " |-- Soil_Type17: integer (nullable = true)\n",
      " |-- Soil_Type18: integer (nullable = true)\n",
      " |-- Soil_Type19: integer (nullable = true)\n",
      " |-- Soil_Type20: integer (nullable = true)\n",
      " |-- Soil_Type21: integer (nullable = true)\n",
      " |-- Soil_Type22: integer (nullable = true)\n",
      " |-- Soil_Type23: integer (nullable = true)\n",
      " |-- Soil_Type24: integer (nullable = true)\n",
      " |-- Soil_Type25: integer (nullable = true)\n",
      " |-- Soil_Type26: integer (nullable = true)\n",
      " |-- Soil_Type27: integer (nullable = true)\n",
      " |-- Soil_Type28: integer (nullable = true)\n",
      " |-- Soil_Type29: integer (nullable = true)\n",
      " |-- Soil_Type30: integer (nullable = true)\n",
      " |-- Soil_Type31: integer (nullable = true)\n",
      " |-- Soil_Type32: integer (nullable = true)\n",
      " |-- Soil_Type33: integer (nullable = true)\n",
      " |-- Soil_Type34: integer (nullable = true)\n",
      " |-- Soil_Type35: integer (nullable = true)\n",
      " |-- Soil_Type36: integer (nullable = true)\n",
      " |-- Soil_Type37: integer (nullable = true)\n",
      " |-- Soil_Type38: integer (nullable = true)\n",
      " |-- Soil_Type39: integer (nullable = true)\n",
      " |-- Soil_Type40: integer (nullable = true)\n",
      " |-- Cover_Type: integer (nullable = true)\n",
      "\n"
     ]
    }
   ],
   "source": [
    "fc_df.printSchema()"
   ]
  },
  {
   "cell_type": "code",
   "execution_count": 10,
   "metadata": {},
   "outputs": [],
   "source": [
    "fc_df.createOrReplaceTempView(\"covtype\")"
   ]
  },
  {
   "cell_type": "markdown",
   "metadata": {},
   "source": [
    "# Preprocess\n",
    "## 3 Dimensi"
   ]
  },
  {
   "cell_type": "code",
   "execution_count": 11,
   "metadata": {},
   "outputs": [],
   "source": [
    "# Retrieve the data needed:\n",
    "# - Slope as ts in\n",
    "# - Aspect as ts out\n",
    "# - Other as dim\n",
    "\n",
    "data = spark.sql(\"SELECT ROW_NUMBER() OVER (ORDER BY NULL) AS `id`, ROW_NUMBER() OVER (ORDER BY NULL) AS `Label`, \\\n",
    "                 `Slope`, `Aspect`, `Elevation`, `Horizontal_Distance_To_Hydrology`, `Horizontal_Distance_To_Roadways`, \\\n",
    "                 `Hillshade_9am`, `Hillshade_Noon`, `Hillshade_3pm`, `Horizontal_Distance_To_Fire_Points`\\\n",
    "                  FROM covtype \\\n",
    "                  WHERE `Slope` < `Aspect`\")\n"
   ]
  },
  {
   "cell_type": "code",
   "execution_count": 12,
   "metadata": {},
   "outputs": [
    {
     "name": "stdout",
     "output_type": "stream",
     "text": [
      "+---+-----+-----+------+---------+--------------------------------+-------------------------------+-------------+--------------+-------------+----------------------------------+\n",
      "| id|Label|Slope|Aspect|Elevation|Horizontal_Distance_To_Hydrology|Horizontal_Distance_To_Roadways|Hillshade_9am|Hillshade_Noon|Hillshade_3pm|Horizontal_Distance_To_Fire_Points|\n",
      "+---+-----+-----+------+---------+--------------------------------+-------------------------------+-------------+--------------+-------------+----------------------------------+\n",
      "|  1|    1|    3|    51|     2596|                             258|                            510|          221|           232|          148|                              6279|\n",
      "|  2|    2|    2|    56|     2590|                             212|                            390|          220|           235|          151|                              6225|\n",
      "|  3|    3|    9|   139|     2804|                             268|                           3180|          234|           238|          135|                              6121|\n",
      "|  4|    4|   18|   155|     2785|                             242|                           3090|          238|           238|          122|                              6211|\n",
      "|  5|    5|    2|    45|     2595|                             153|                            391|          220|           234|          150|                              6172|\n",
      "|  6|    6|    6|   132|     2579|                             300|                             67|          230|           237|          140|                              6031|\n",
      "|  7|    7|    7|    45|     2606|                             270|                            633|          222|           225|          138|                              6256|\n",
      "|  8|    8|    4|    49|     2605|                             234|                            573|          222|           230|          144|                              6228|\n",
      "|  9|    9|    9|    45|     2617|                             240|                            666|          223|           221|          133|                              6244|\n",
      "| 10|   10|   10|    59|     2612|                             247|                            636|          228|           219|          124|                              6230|\n",
      "| 11|   11|    4|   201|     2612|                             180|                            735|          218|           243|          161|                              6222|\n",
      "| 12|   12|   11|   151|     2886|                             371|                           5253|          234|           240|          136|                              4051|\n",
      "| 13|   13|   22|   134|     2742|                             150|                           3215|          248|           224|           92|                              6091|\n",
      "| 14|   14|    7|   214|     2609|                             150|                            771|          213|           247|          170|                              6211|\n",
      "| 15|   15|    4|   157|     2503|                              67|                            674|          224|           240|          151|                              5600|\n",
      "| 16|   16|    7|    51|     2495|                              42|                            752|          224|           225|          137|                              5576|\n",
      "| 17|   17|    1|   259|     2610|                             120|                            607|          216|           239|          161|                              6096|\n",
      "| 18|   18|    7|    72|     2517|                              85|                            595|          228|           227|          133|                              5607|\n",
      "| 19|   19|    5|    38|     2503|                              85|                            741|          220|           228|          144|                              5555|\n",
      "| 20|   20|    9|    71|     2501|                              60|                            767|          230|           223|          126|                              5547|\n",
      "+---+-----+-----+------+---------+--------------------------------+-------------------------------+-------------+--------------+-------------+----------------------------------+\n",
      "only showing top 20 rows\n",
      "\n"
     ]
    }
   ],
   "source": [
    "data.show()"
   ]
  },
  {
   "cell_type": "code",
   "execution_count": 13,
   "metadata": {},
   "outputs": [
    {
     "data": {
      "text/plain": [
       "546298"
      ]
     },
     "execution_count": 13,
     "metadata": {},
     "output_type": "execute_result"
    }
   ],
   "source": [
    "data.count()"
   ]
  },
  {
   "cell_type": "code",
   "execution_count": 14,
   "metadata": {},
   "outputs": [
    {
     "name": "stdout",
     "output_type": "stream",
     "text": [
      "+---+---------+-----+------+---------+--------------------------------+-------------------------------+-------------+--------------+-------------+----------------------------------+\n",
      "| id|    Label|Slope|Aspect|Elevation|Horizontal_Distance_To_Hydrology|Horizontal_Distance_To_Roadways|Hillshade_9am|Hillshade_Noon|Hillshade_3pm|Horizontal_Distance_To_Fire_Points|\n",
      "+---+---------+-----+------+---------+--------------------------------+-------------------------------+-------------+--------------+-------------+----------------------------------+\n",
      "|  1| covtype1|    3|    51|     2596|                             258|                            510|          221|           232|          148|                              6279|\n",
      "|  2| covtype2|    2|    56|     2590|                             212|                            390|          220|           235|          151|                              6225|\n",
      "|  3| covtype3|    9|   139|     2804|                             268|                           3180|          234|           238|          135|                              6121|\n",
      "|  4| covtype4|   18|   155|     2785|                             242|                           3090|          238|           238|          122|                              6211|\n",
      "|  5| covtype5|    2|    45|     2595|                             153|                            391|          220|           234|          150|                              6172|\n",
      "|  6| covtype6|    6|   132|     2579|                             300|                             67|          230|           237|          140|                              6031|\n",
      "|  7| covtype7|    7|    45|     2606|                             270|                            633|          222|           225|          138|                              6256|\n",
      "|  8| covtype8|    4|    49|     2605|                             234|                            573|          222|           230|          144|                              6228|\n",
      "|  9| covtype9|    9|    45|     2617|                             240|                            666|          223|           221|          133|                              6244|\n",
      "| 10|covtype10|   10|    59|     2612|                             247|                            636|          228|           219|          124|                              6230|\n",
      "| 11|covtype11|    4|   201|     2612|                             180|                            735|          218|           243|          161|                              6222|\n",
      "| 12|covtype12|   11|   151|     2886|                             371|                           5253|          234|           240|          136|                              4051|\n",
      "| 13|covtype13|   22|   134|     2742|                             150|                           3215|          248|           224|           92|                              6091|\n",
      "| 14|covtype14|    7|   214|     2609|                             150|                            771|          213|           247|          170|                              6211|\n",
      "| 15|covtype15|    4|   157|     2503|                              67|                            674|          224|           240|          151|                              5600|\n",
      "| 16|covtype16|    7|    51|     2495|                              42|                            752|          224|           225|          137|                              5576|\n",
      "| 17|covtype17|    1|   259|     2610|                             120|                            607|          216|           239|          161|                              6096|\n",
      "| 18|covtype18|    7|    72|     2517|                              85|                            595|          228|           227|          133|                              5607|\n",
      "| 19|covtype19|    5|    38|     2503|                              85|                            741|          220|           228|          144|                              5555|\n",
      "| 20|covtype20|    9|    71|     2501|                              60|                            767|          230|           223|          126|                              5547|\n",
      "+---+---------+-----+------+---------+--------------------------------+-------------------------------+-------------+--------------+-------------+----------------------------------+\n",
      "only showing top 20 rows\n",
      "\n"
     ]
    }
   ],
   "source": [
    "from pyspark.sql.functions import udf\n",
    "from pyspark.sql.types import *\n",
    "\n",
    "def labelprod(id):\n",
    "    label = 'covtype' + str(id)\n",
    "    return label\n",
    "        \n",
    "def labelcust(id):\n",
    "    label = 'fctype' + str(id)\n",
    "    return label\n",
    "\n",
    "# NOTE: it seems that calls to udf() must be after SparkContext() is called\n",
    "udfLabel = udf(labelprod, StringType())\n",
    "df_prep = data.withColumn(\"Label\", udfLabel(\"id\"))\n",
    "df_prep.show()"
   ]
  },
  {
   "cell_type": "code",
   "execution_count": 15,
   "metadata": {},
   "outputs": [],
   "source": [
    "df_prep.createOrReplaceTempView(\"prep\")"
   ]
  },
  {
   "cell_type": "code",
   "execution_count": 16,
   "metadata": {},
   "outputs": [],
   "source": [
    "# split\n",
    "\n",
    "df_prod = spark.sql(\"SELECT * FROM prep WHERE `id` <= 546298/2\")\n",
    "df_cust = spark.sql(\"SELECT ROW_NUMBER() OVER (ORDER BY NULL) AS `id`, ROW_NUMBER() OVER (ORDER BY NULL) AS `Label`, \\\n",
    "                    `Slope`, `Aspect`, `Elevation`, `Horizontal_Distance_To_Hydrology`, `Horizontal_Distance_To_Roadways`, \\\n",
    "                    `Hillshade_9am`, `Hillshade_Noon`, `Hillshade_3pm`, `Horizontal_Distance_To_Fire_Points`\\\n",
    "                    FROM prep WHERE `id` > 546298/2\")\n",
    "\n",
    "udfLabel = udf(labelcust, StringType())\n",
    "df_cust = df_cust.withColumn(\"Label\", udfLabel(\"id\"))"
   ]
  },
  {
   "cell_type": "code",
   "execution_count": 17,
   "metadata": {},
   "outputs": [
    {
     "name": "stdout",
     "output_type": "stream",
     "text": [
      "+---+--------+-----+------+---------+--------------------------------+-------------------------------+-------------+--------------+-------------+----------------------------------+\n",
      "| id|   Label|Slope|Aspect|Elevation|Horizontal_Distance_To_Hydrology|Horizontal_Distance_To_Roadways|Hillshade_9am|Hillshade_Noon|Hillshade_3pm|Horizontal_Distance_To_Fire_Points|\n",
      "+---+--------+-----+------+---------+--------------------------------+-------------------------------+-------------+--------------+-------------+----------------------------------+\n",
      "|  1| fctype1|    9|   120|     2944|                             108|                           1236|          236|           232|          127|                               560|\n",
      "|  2| fctype2|    4|   122|     2942|                              85|                           1266|          228|           236|          143|                               532|\n",
      "|  3| fctype3|    2|   119|     2940|                              67|                           1296|          223|           237|          149|                               503|\n",
      "|  4| fctype4|    1|   121|     2940|                              42|                           1325|          221|           237|          152|                               474|\n",
      "|  5| fctype5|    1|   121|     2939|                              30|                           1355|          221|           237|          152|                               446|\n",
      "|  6| fctype6|   11|    31|     2933|                              42|                           1535|          217|           216|          133|                               283|\n",
      "|  7| fctype7|   10|   321|     2931|                              60|                           1595|          193|           230|          176|                               234|\n",
      "|  8| fctype8|    7|   299|     2936|                              42|                           1624|          200|           237|          177|                               212|\n",
      "|  9| fctype9|    4|   305|     2938|                              30|                           1654|          209|           237|          167|                               192|\n",
      "| 10|fctype10|    3|   321|     2939|                              42|                           1684|          211|           236|          164|                               175|\n",
      "| 11|fctype11|    4|    69|     2940|                              95|                           1744|          224|           231|          143|                               153|\n",
      "| 12|fctype12|    6|    79|     2937|                             124|                           1774|          228|           229|          135|                               150|\n",
      "| 13|fctype13|    6|    70|     2933|                             150|                           1804|          227|           228|          135|                               153|\n",
      "| 14|fctype14|    6|    38|     2930|                             170|                           1834|          220|           227|          143|                               162|\n",
      "| 15|fctype15|    8|   357|     2929|                             192|                           1864|          207|           226|          156|                               175|\n",
      "| 16|fctype16|   11|   354|     2930|                             216|                           1894|          201|           220|          157|                               192|\n",
      "| 17|fctype17|   11|   320|     2929|                             240|                           2073|          191|           229|          178|                               335|\n",
      "| 18|fctype18|   17|   306|     2938|                             240|                           2103|          170|           228|          197|                               362|\n",
      "| 19|fctype19|   20|   313|     2948|                             240|                           2133|          163|           221|          196|                               390|\n",
      "| 20|fctype20|   20|   335|     2957|                             240|                           2163|          171|           209|          175|                               418|\n",
      "+---+--------+-----+------+---------+--------------------------------+-------------------------------+-------------+--------------+-------------+----------------------------------+\n",
      "only showing top 20 rows\n",
      "\n"
     ]
    }
   ],
   "source": [
    "df_cust.show()"
   ]
  },
  {
   "cell_type": "code",
   "execution_count": 18,
   "metadata": {},
   "outputs": [],
   "source": [
    "df_prod.createOrReplaceTempView(\"product\")\n",
    "df_cust.createOrReplaceTempView(\"customer\")"
   ]
  },
  {
   "cell_type": "code",
   "execution_count": 19,
   "metadata": {},
   "outputs": [
    {
     "data": {
      "text/plain": [
       "273149"
      ]
     },
     "execution_count": 19,
     "metadata": {},
     "output_type": "execute_result"
    }
   ],
   "source": [
    "df_prod.count()"
   ]
  },
  {
   "cell_type": "code",
   "execution_count": 20,
   "metadata": {},
   "outputs": [
    {
     "data": {
      "text/plain": [
       "273149"
      ]
     },
     "execution_count": 20,
     "metadata": {},
     "output_type": "execute_result"
    }
   ],
   "source": [
    "df_cust.count()"
   ]
  },
  {
   "cell_type": "markdown",
   "metadata": {},
   "source": [
    "## Skenario\n",
    "\n",
    "- 10000 3\n",
    "- 20000 3\n",
    "- 50000 3\n",
    "- 100000 3\n",
    "- 200000 3\n",
    "\n",
    "- 10000 4\n",
    "- 10000 5\n",
    "- 10000 6\n",
    "- 10000 7"
   ]
  },
  {
   "cell_type": "code",
   "execution_count": 21,
   "metadata": {},
   "outputs": [],
   "source": [
    "import pandas\n",
    "\n",
    "export_path = '/Users/mocatfrio/Documents/thesis/tugas-akhir/App/deploy/dataset/fc'\n",
    "# export_path = '/home/mocatfrio/Documents/tugas-akhir/app/deploy/dataset/fc'"
   ]
  },
  {
   "cell_type": "code",
   "execution_count": 22,
   "metadata": {},
   "outputs": [],
   "source": [
    "df_p = spark.sql(\"SELECT `id`, `Label`, `Slope`, `Aspect`, `Elevation`, `Horizontal_Distance_To_Hydrology`, \\\n",
    "                        `Horizontal_Distance_To_Roadways` \\\n",
    "                        FROM product \\\n",
    "                        WHERE `id` <= 500\")\n",
    "df_c = spark.sql(\"SELECT `id`, `Label`, `Slope`, `Aspect`, `Elevation`, `Horizontal_Distance_To_Hydrology`, \\\n",
    "                        `Horizontal_Distance_To_Roadways` \\\n",
    "                        FROM customer \\\n",
    "                        WHERE `id` <= 500\")\n",
    "df_p.toPandas().to_csv(os.path.join(export_path, 'product_fc_500_3.csv'))\n",
    "df_c.toPandas().to_csv(os.path.join(export_path, 'customer_fc_500_3.csv'))"
   ]
  },
  {
   "cell_type": "code",
   "execution_count": 23,
   "metadata": {},
   "outputs": [],
   "source": [
    "df_p = spark.sql(\"SELECT `id`, `Label`, `Slope`, `Aspect`, `Elevation`, `Horizontal_Distance_To_Hydrology`, \\\n",
    "                        `Horizontal_Distance_To_Roadways` \\\n",
    "                        FROM product \\\n",
    "                        WHERE `id` <= 1000\")\n",
    "df_c = spark.sql(\"SELECT `id`, `Label`, `Slope`, `Aspect`, `Elevation`, `Horizontal_Distance_To_Hydrology`, \\\n",
    "                        `Horizontal_Distance_To_Roadways` \\\n",
    "                        FROM customer \\\n",
    "                        WHERE `id` <= 1000\")\n",
    "df_p.toPandas().to_csv(os.path.join(export_path, 'product_fc_1000_3.csv'))\n",
    "df_c.toPandas().to_csv(os.path.join(export_path, 'customer_fc_1000_3.csv'))"
   ]
  },
  {
   "cell_type": "code",
   "execution_count": 24,
   "metadata": {},
   "outputs": [],
   "source": [
    "df_p = spark.sql(\"SELECT `id`, `Label`, `Slope`, `Aspect`, `Elevation`, `Horizontal_Distance_To_Hydrology`, \\\n",
    "                        `Horizontal_Distance_To_Roadways` \\\n",
    "                        FROM product \\\n",
    "                        WHERE `id` <= 2000\")\n",
    "df_c = spark.sql(\"SELECT `id`, `Label`, `Slope`, `Aspect`, `Elevation`, `Horizontal_Distance_To_Hydrology`, \\\n",
    "                        `Horizontal_Distance_To_Roadways` \\\n",
    "                        FROM customer \\\n",
    "                        WHERE `id` <= 2000\")\n",
    "df_p.toPandas().to_csv(os.path.join(export_path, 'product_fc_2000_3.csv'))\n",
    "df_c.toPandas().to_csv(os.path.join(export_path, 'customer_fc_2000_3.csv'))"
   ]
  },
  {
   "cell_type": "code",
   "execution_count": 25,
   "metadata": {},
   "outputs": [],
   "source": [
    "df_p = spark.sql(\"SELECT `id`, `Label`, `Slope`, `Aspect`, `Elevation`, `Horizontal_Distance_To_Hydrology`, \\\n",
    "                        `Horizontal_Distance_To_Roadways` \\\n",
    "                        FROM product \\\n",
    "                        WHERE `id` <= 5000\")\n",
    "df_c = spark.sql(\"SELECT `id`, `Label`, `Slope`, `Aspect`, `Elevation`, `Horizontal_Distance_To_Hydrology`, \\\n",
    "                        `Horizontal_Distance_To_Roadways` \\\n",
    "                        FROM customer \\\n",
    "                        WHERE `id` <= 5000\")\n",
    "df_p.toPandas().to_csv(os.path.join(export_path, 'product_fc_5000_3.csv'))\n",
    "df_c.toPandas().to_csv(os.path.join(export_path, 'customer_fc_5000_3.csv'))"
   ]
  },
  {
   "cell_type": "code",
   "execution_count": 26,
   "metadata": {},
   "outputs": [],
   "source": [
    "df_p = spark.sql(\"SELECT `id`, `Label`, `Slope`, `Aspect`, `Elevation`, `Horizontal_Distance_To_Hydrology`, \\\n",
    "                        `Horizontal_Distance_To_Roadways` \\\n",
    "                        FROM product \\\n",
    "                        WHERE `id` <= 10000\")\n",
    "df_c = spark.sql(\"SELECT `id`, `Label`, `Slope`, `Aspect`, `Elevation`, `Horizontal_Distance_To_Hydrology`, \\\n",
    "                        `Horizontal_Distance_To_Roadways` \\\n",
    "                        FROM customer \\\n",
    "                        WHERE `id` <= 10000\")\n",
    "df_p.toPandas().to_csv(os.path.join(export_path, 'product_fc_10000_3.csv'))\n",
    "df_c.toPandas().to_csv(os.path.join(export_path, 'customer_fc_10000_3.csv'))"
   ]
  },
  {
   "cell_type": "code",
   "execution_count": 27,
   "metadata": {},
   "outputs": [],
   "source": [
    "df_p = spark.sql(\"SELECT `id`, `Label`, `Slope`, `Aspect`, `Elevation`, `Horizontal_Distance_To_Hydrology`, \\\n",
    "                        `Horizontal_Distance_To_Roadways`, `Hillshade_9am` \\\n",
    "                        FROM product \\\n",
    "                        WHERE `id` <= 2000\")\n",
    "df_c = spark.sql(\"SELECT `id`, `Label`, `Slope`, `Aspect`, `Elevation`, `Horizontal_Distance_To_Hydrology`, \\\n",
    "                        `Horizontal_Distance_To_Roadways`, `Hillshade_9am` \\\n",
    "                        FROM customer \\\n",
    "                        WHERE `id` <= 2000\")\n",
    "df_p.toPandas().to_csv(os.path.join(export_path, 'product_fc_2000_4.csv'))\n",
    "df_c.toPandas().to_csv(os.path.join(export_path, 'customer_fc_2000_4.csv'))"
   ]
  },
  {
   "cell_type": "code",
   "execution_count": 28,
   "metadata": {},
   "outputs": [],
   "source": [
    "df_p = spark.sql(\"SELECT `id`, `Label`, `Slope`, `Aspect`, `Elevation`, `Horizontal_Distance_To_Hydrology`, \\\n",
    "                        `Horizontal_Distance_To_Roadways`, `Hillshade_9am`, `Hillshade_Noon` \\\n",
    "                        FROM product \\\n",
    "                        WHERE `id` <= 2000\")\n",
    "df_c = spark.sql(\"SELECT `id`, `Label`, `Slope`, `Aspect`, `Elevation`, `Horizontal_Distance_To_Hydrology`, \\\n",
    "                        `Horizontal_Distance_To_Roadways`, `Hillshade_9am`, `Hillshade_Noon` \\\n",
    "                        FROM customer \\\n",
    "                        WHERE `id` <= 2000\")\n",
    "df_p.toPandas().to_csv(os.path.join(export_path, 'product_fc_2000_5.csv'))\n",
    "df_c.toPandas().to_csv(os.path.join(export_path, 'customer_fc_2000_5.csv'))"
   ]
  },
  {
   "cell_type": "code",
   "execution_count": 29,
   "metadata": {},
   "outputs": [],
   "source": [
    "df_p = spark.sql(\"SELECT `id`, `Label`, `Slope`, `Aspect`, `Elevation`, `Horizontal_Distance_To_Hydrology`, \\\n",
    "                        `Horizontal_Distance_To_Roadways`, `Hillshade_9am`, `Hillshade_Noon`, `Hillshade_3pm` \\\n",
    "                        FROM product \\\n",
    "                        WHERE `id` <= 2000\")\n",
    "df_c = spark.sql(\"SELECT `id`, `Label`, `Slope`, `Aspect`, `Elevation`, `Horizontal_Distance_To_Hydrology`, \\\n",
    "                        `Horizontal_Distance_To_Roadways`, `Hillshade_9am`, `Hillshade_Noon`, `Hillshade_3pm` \\\n",
    "                        FROM customer \\\n",
    "                        WHERE `id` <= 2000\")\n",
    "df_p.toPandas().to_csv(os.path.join(export_path, 'product_fc_2000_6.csv'))\n",
    "df_c.toPandas().to_csv(os.path.join(export_path, 'customer_fc_2000_6.csv'))"
   ]
  },
  {
   "cell_type": "code",
   "execution_count": 30,
   "metadata": {},
   "outputs": [],
   "source": [
    "df_p = spark.sql(\"SELECT * \\\n",
    "                       FROM product \\\n",
    "                        WHERE `id` <= 2000\")\n",
    "df_c = spark.sql(\"SELECT * \\\n",
    "                        FROM customer \\\n",
    "                        WHERE `id` <= 2000\")\n",
    "df_p.toPandas().to_csv(os.path.join(export_path, 'product_fc_2000_7.csv'))\n",
    "df_c.toPandas().to_csv(os.path.join(export_path, 'customer_fc_2000_7.csv'))"
   ]
  }
 ],
 "metadata": {
  "kernelspec": {
   "display_name": "Python 3",
   "language": "python",
   "name": "python3"
  },
  "language_info": {
   "codemirror_mode": {
    "name": "ipython",
    "version": 3
   },
   "file_extension": ".py",
   "mimetype": "text/x-python",
   "name": "python",
   "nbconvert_exporter": "python",
   "pygments_lexer": "ipython3",
   "version": "3.7.3"
  }
 },
 "nbformat": 4,
 "nbformat_minor": 2
}
